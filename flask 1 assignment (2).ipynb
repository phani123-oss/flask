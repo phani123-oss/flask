{
 "cells": [
  {
   "cell_type": "code",
   "execution_count": 2,
   "id": "b46044d8-fc05-4949-ac33-7c8ceafec2ac",
   "metadata": {},
   "outputs": [
    {
     "name": "stdout",
     "output_type": "stream",
     "text": [
      "Requirement already satisfied: flask in /opt/conda/lib/python3.10/site-packages (3.0.0)\n",
      "Requirement already satisfied: Jinja2>=3.1.2 in /opt/conda/lib/python3.10/site-packages (from flask) (3.1.2)\n",
      "Requirement already satisfied: blinker>=1.6.2 in /opt/conda/lib/python3.10/site-packages (from flask) (1.6.3)\n",
      "Requirement already satisfied: Werkzeug>=3.0.0 in /opt/conda/lib/python3.10/site-packages (from flask) (3.0.1)\n",
      "Requirement already satisfied: click>=8.1.3 in /opt/conda/lib/python3.10/site-packages (from flask) (8.1.3)\n",
      "Requirement already satisfied: itsdangerous>=2.1.2 in /opt/conda/lib/python3.10/site-packages (from flask) (2.1.2)\n",
      "Requirement already satisfied: MarkupSafe>=2.0 in /opt/conda/lib/python3.10/site-packages (from Jinja2>=3.1.2->flask) (2.1.1)\n",
      "Note: you may need to restart the kernel to use updated packages.\n"
     ]
    }
   ],
   "source": [
    "pip install flask"
   ]
  },
  {
   "cell_type": "code",
   "execution_count": 1,
   "id": "0b92430e-895a-4ff8-ba15-00ca90f3a197",
   "metadata": {},
   "outputs": [
    {
     "name": "stdout",
     "output_type": "stream",
     "text": [
      " * Serving Flask app '__main__'\n",
      " * Debug mode: off\n"
     ]
    },
    {
     "name": "stderr",
     "output_type": "stream",
     "text": [
      "WARNING: This is a development server. Do not use it in a production deployment. Use a production WSGI server instead.\n",
      " * Running on http://0.0.0.0.:5000\n",
      "Press CTRL+C to quit\n",
      "172.18.0.2 - - [27/Oct/2023 01:56:27] \"GET / HTTP/1.1\" 200 -\n",
      "172.18.0.2 - - [27/Oct/2023 01:56:27] \"GET /favicon.ico HTTP/1.1\" 404 -\n"
     ]
    }
   ],
   "source": [
    "#create a flask app to dispaly \"HELLO,World!\"\n",
    "\n",
    "#importing librries\n",
    "from flask import Flask\n",
    "#creating app\n",
    "app = Flask(__name__)\n",
    "\n",
    "@app.route('/')\n",
    "def saying():\n",
    "    return \"HELLO,WORLD!\"\n",
    "\n",
    "if __name__ == \"__main__\":\n",
    "    app.run(host=\"0.0.0.0.\")"
   ]
  },
  {
   "cell_type": "code",
   "execution_count": null,
   "id": "eb96df69-abe1-4fbe-b8be-46e162ea9f5e",
   "metadata": {},
   "outputs": [],
   "source": [
    "#create a flask app witha a form that accepts user input and displays it"
   ]
  },
  {
   "cell_type": "markdown",
   "id": "6e9165cd-89b2-4a05-9814-ed50fa17819c",
   "metadata": {
    "tags": []
   },
   "source": [
    "<html>\n",
    "<head>\n",
    "  <title>User Input Form</title>\n",
    "</head>\n",
    "<body>\n",
    "    <h1>User Input Form</h1>\n",
    "    <form>\n",
    "        <label for=\"name\">Name:</label>\n",
    "        <input type=\"text\" id=\"name\" name=\"name\" required><br>\n",
    "        <input type=\"submit\" value=\"Submit\">\n",
    "        </form>\n",
    "</body>\n",
    "</html>"
   ]
  },
  {
   "cell_type": "code",
   "execution_count": null,
   "id": "45c223ed-4504-4508-8d10-c54632e3bbf5",
   "metadata": {},
   "outputs": [],
   "source": [
    "from flask import Flask,render_template,request\n",
    "app = Flask(__name__)\n",
    "\n",
    "@app.route('/')\n",
    "def example():\n",
    "    return render_template(\"name.html\")\n",
    "\n",
    "@app.route('/submit',methods=['POST'])\n",
    "def submit():\n",
    "    name = request.form.get['name']\n",
    "    return f\"your {name} has been submitted successfully\"\n",
    "\n",
    "if __name__ == \"__main__\":\n",
    "    app.run(host=\"0.0.0.0\")\n",
    "    \n",
    "    \n",
    "    '''for this code we have to import flask first .\n",
    "    1. afterthat, we craete a flass app and approute and run our code\n",
    "    2. before doing this we have to create a folder called templates and inside that folder we \n",
    "    create a new file name that with name.html then only we use this to print our output'''"
   ]
  },
  {
   "cell_type": "code",
   "execution_count": null,
   "id": "49685c30-34a1-49e1-8348-ccd4143ce209",
   "metadata": {},
   "outputs": [],
   "source": [
    "#2. Build a Flask app with static HTML pages and navigate between them.\n",
    "\n",
    "from flask import Flask,render_template\n",
    "app = Flask(__name__)\n",
    "@app.route('/')\n",
    "def about():\n",
    "    return render_template(\"about.html\")\n",
    "\n",
    "if __name__ == \"__main__\":\n",
    "    app.run(host=\"0.0.0.0\")\n",
    "    \n",
    "    \n",
    "    '''for this code we have to import flask first .\n",
    "    1. afterthat, we craete a flass app and approute and run our code\n",
    "    2. before doing this we have to create a folder called templates and inside that folder we \n",
    "    create a new file name that with about.html then only we use this to print our output'''"
   ]
  },
  {
   "cell_type": "code",
   "execution_count": null,
   "id": "abbf0bf4-73c1-42e7-b042-3333e31ade76",
   "metadata": {},
   "outputs": [],
   "source": [
    "#3. Develop a Flask app that uses URL parameters to display dynamic content.\n",
    "from flask import Flask, render_template\n",
    "\n",
    "app = Flask(_name_)\n",
    "\n",
    "@app.route('/user/<username>')\n",
    "def user_profile(username):\n",
    "    # Retrieve dynamic data or perform actions based on the username\n",
    "    # For example, fetch user information from a database\n",
    "\n",
    "    # Pass the dynamic data to the template\n",
    "    return render_template('profile.html', username=username)\n",
    "\n",
    "if _name_ == '_main_':\n",
    "    app.run(host=\"0.0.0.0\")"
   ]
  },
  {
   "cell_type": "markdown",
   "id": "ea7158b6-4b59-4409-a001-80648dea4efb",
   "metadata": {},
   "source": [
    "<html>\n",
    "<head>\n",
    "    <title>User Profile</title>\n",
    "</head>\n",
    "<body>\n",
    "    <h1>Welcome, {{ username }}!</h1>\n",
    "    <!-- Display dynamic content using the username variable -->\n",
    "    <p>This is the profile page for {{ username }}.</p>\n",
    "</body>\n",
    "</html>"
   ]
  },
  {
   "cell_type": "code",
   "execution_count": null,
   "id": "f895fc2d-46fb-4090-a9a2-580c1b94b95b",
   "metadata": {},
   "outputs": [],
   "source": []
  }
 ],
 "metadata": {
  "kernelspec": {
   "display_name": "Python 3 (ipykernel)",
   "language": "python",
   "name": "python3"
  },
  "language_info": {
   "codemirror_mode": {
    "name": "ipython",
    "version": 3
   },
   "file_extension": ".py",
   "mimetype": "text/x-python",
   "name": "python",
   "nbconvert_exporter": "python",
   "pygments_lexer": "ipython3",
   "version": "3.10.8"
  }
 },
 "nbformat": 4,
 "nbformat_minor": 5
}
